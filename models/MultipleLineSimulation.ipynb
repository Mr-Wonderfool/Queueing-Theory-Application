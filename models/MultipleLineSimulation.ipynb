{
 "cells": [
  {
   "cell_type": "code",
   "execution_count": 116,
   "metadata": {},
   "outputs": [
    {
     "name": "stdout",
     "output_type": "stream",
     "text": [
      "The autoreload extension is already loaded. To reload it, use:\n",
      "  %reload_ext autoreload\n"
     ]
    }
   ],
   "source": [
    "%load_ext autoreload\n",
    "%autoreload 2\n",
    "import numpy as np\n",
    "import matplotlib.pyplot as plt\n",
    "from utils.doors import DoorType\n",
    "from utils.line import Line\n",
    "from utils.params import Params\n",
    "plt.style.use('ggplot')\n",
    "params = Params()\n",
    "np.random.seed(42) # need to ensure # people generated is same for both line"
   ]
  },
  {
   "cell_type": "code",
   "execution_count": 117,
   "metadata": {},
   "outputs": [],
   "source": [
    "TotalLineOpen = []\n",
    "TotalLineNormal = []\n",
    "for i in range(3):\n",
    "    TotalLineOpen.append(Line(DoorType.keepOpen,i))\n",
    "    TotalLineNormal.append(Line(DoorType.normal,i))"
   ]
  },
  {
   "cell_type": "code",
   "execution_count": null,
   "metadata": {},
   "outputs": [],
   "source": [
    "for i in range(1000):\n",
    "    p = [True,False,False]\n",
    "    for j in range(3):\n",
    "        TotalLineOpen[j].forward(TotalLineOpen,print = p[j])"
   ]
  }
 ],
 "metadata": {
  "kernelspec": {
   "display_name": "base",
   "language": "python",
   "name": "python3"
  },
  "language_info": {
   "codemirror_mode": {
    "name": "ipython",
    "version": 3
   },
   "file_extension": ".py",
   "mimetype": "text/x-python",
   "name": "python",
   "nbconvert_exporter": "python",
   "pygments_lexer": "ipython3",
   "version": "3.11.7"
  }
 },
 "nbformat": 4,
 "nbformat_minor": 2
}
