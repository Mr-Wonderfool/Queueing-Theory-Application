{
 "cells": [
  {
   "cell_type": "markdown",
   "metadata": {},
   "source": [
    "#### Declare global variables\n",
    "- use poisson process to model passing time and gate time"
   ]
  },
  {
   "cell_type": "code",
   "execution_count": 54,
   "metadata": {},
   "outputs": [
    {
     "name": "stdout",
     "output_type": "stream",
     "text": [
      "The autoreload extension is already loaded. To reload it, use:\n",
      "  %reload_ext autoreload\n"
     ]
    }
   ],
   "source": [
    "%load_ext autoreload\n",
    "%autoreload 2\n",
    "import numpy as np\n",
    "import matplotlib.pyplot as plt\n",
    "from utils.doors import DoorType\n",
    "from utils.line import Line\n",
    "from utils.params import Params\n",
    "plt.style.use('ggplot')\n",
    "params = Params()\n",
    "np.random.seed(42) # need to ensure # people generated is same for both line"
   ]
  },
  {
   "cell_type": "markdown",
   "metadata": {},
   "source": [
    "#### Simulation of different type of doors"
   ]
  },
  {
   "cell_type": "code",
   "execution_count": 55,
   "metadata": {},
   "outputs": [],
   "source": [
    "normalLine = Line(DoorType.normal)\n",
    "openLine = Line(DoorType.keepOpen)"
   ]
  },
  {
   "cell_type": "code",
   "execution_count": 56,
   "metadata": {},
   "outputs": [
    {
     "name": "stdout",
     "output_type": "stream",
     "text": [
      "aaaa"
     ]
    }
   ],
   "source": [
    "for i in range(50):\n",
    "    normalLine.forward()"
   ]
  },
  {
   "cell_type": "code",
   "execution_count": 57,
   "metadata": {},
   "outputs": [
    {
     "name": "stdout",
     "output_type": "stream",
     "text": [
      "aaaaaaaaaaaaaaaaaaaaaaaaaaaaaaaaaaaaaaaaaaaaaaaaaaaaaaaaaaaaaaaaaaaaaaaaaaaaaaaaaaaaaaaaaaaaaaaaaaaaaaaaaaaaaaaaaaaaaaaaaaaaaaaaaaaaaaaaaaaaaaaaaaaaaaaaaaaaaaaaaaaaaaaaaaaaaaaaaaaaaaaaaaaaaaaaaaaaaaaaaaaaaaaaaaaaaaaaaaaaaaaaaaaaaaaaaaaaaaaaaaaaaaaaaaaaaaaaaaaaaaaaaaaaaaaaaaaaaaaaaaaaaaaaaaaaaaaaaaaaaaaaaaaaaaaaaaaaaaaaaaaaaaaaaaaaaaaaaaaaaaaaaaaaaaaaaaaaaaaaaaaaaaaaaaaaaaaaaaaaaa"
     ]
    }
   ],
   "source": [
    "normalPass, openPass = [], []\n",
    "normal, open = 0, 0\n",
    "for i in range(100):\n",
    "    normalLine.forward()\n",
    "    openLine.forward()\n",
    "    normal, open = normalLine.PassingCounter, openLine.PassingCounter\n",
    "    normalPass.append(normal)\n",
    "    openPass.append(open)"
   ]
  },
  {
   "cell_type": "code",
   "execution_count": 58,
   "metadata": {},
   "outputs": [
    {
     "data": {
      "text/plain": [
       "[<matplotlib.lines.Line2D at 0x1899d3e4410>]"
      ]
     },
     "execution_count": 58,
     "metadata": {},
     "output_type": "execute_result"
    },
    {
     "data": {
      "image/png": "[encoded data removed]",
      "text/plain": [
       "<Figure size 640x480 with 1 Axes>"
      ]
     },
     "metadata": {},
     "output_type": "display_data"
    }
   ],
   "source": [
    "plt.plot(normalPass, '*-', label='normal')\n",
    "plt.plot(openPass, label='open')"
   ]
  },
  {
   "cell_type": "markdown",
   "metadata": {},
   "source": [
    "#### Statistic measurements for the performance of doors\n",
    "- average queue length\n",
    "- passing number in a given period of time"
   ]
  },
  {
   "cell_type": "code",
   "execution_count": 59,
   "metadata": {},
   "outputs": [],
   "source": [
    "def average_queue_length():\n",
    "    \"\"\"\n",
    "    Returns\n",
    "    -------\n",
    "    avg_normal: float\n",
    "        average queue length for normal door\n",
    "    avg_open: float\n",
    "        average queue length for keep open door\n",
    "    normal_num, open_num: list\n",
    "        queue length for normal and open door\n",
    "    \"\"\"\n",
    "    normalLine = Line(DoorType.normal)\n",
    "    openLine = Line(DoorType.keepOpen)\n",
    "    while 0 == normalLine.PassingCounter:\n",
    "        # simulate still reaching stable condition\n",
    "        normalLine.forward()\n",
    "    while 0 == openLine.PassingCounter:\n",
    "        openLine.forward()\n",
    "    # average queue length\n",
    "    sim_step = 10000 * params.timestep\n",
    "    curr_step, counter = 0, 0\n",
    "    normal_num, open_num = [], []\n",
    "    while curr_step < sim_step:\n",
    "        normalLine.forward()\n",
    "        openLine.forward(print=True)\n",
    "        curr_step += params.timestep\n",
    "        if curr_step % int(4*params.timestep) == 0:\n",
    "            normal_num.append(normalLine.count_occupied())\n",
    "            open_num.append(openLine.count_occupied())\n",
    "            counter += 1\n",
    "    return sum(normal_num) / counter, sum(open_num) / counter, normal_num, open_num"
   ]
  },
  {
   "cell_type": "code",
   "execution_count": 61,
   "metadata": {},
   "outputs": [
    {
     "name": "stdout",
     "output_type": "stream",
     "text": [
      "😡😡😡😡😡😡😡😡😡😡                "
     ]
    },
    {
     "ename": "KeyboardInterrupt",
     "evalue": "",
     "output_type": "error",
     "traceback": [
      "\u001b[1;31m---------------------------------------------------------------------------\u001b[0m",
      "\u001b[1;31mKeyboardInterrupt\u001b[0m                         Traceback (most recent call last)",
      "Cell \u001b[1;32mIn[61], line 1\u001b[0m\n\u001b[1;32m----> 1\u001b[0m avg_normal, avg_open, normal_queue, open_queue \u001b[38;5;241m=\u001b[39m average_queue_length()\n\u001b[0;32m      2\u001b[0m \u001b[38;5;28;01mimport\u001b[39;00m \u001b[38;5;21;01mpandas\u001b[39;00m \u001b[38;5;28;01mas\u001b[39;00m \u001b[38;5;21;01mpd\u001b[39;00m\n\u001b[0;32m      3\u001b[0m normal_queue \u001b[38;5;241m=\u001b[39m pd\u001b[38;5;241m.\u001b[39mSeries(normal_queue)\n",
      "Cell \u001b[1;32mIn[59], line 25\u001b[0m, in \u001b[0;36maverage_queue_length\u001b[1;34m()\u001b[0m\n\u001b[0;32m     23\u001b[0m \u001b[38;5;28;01mwhile\u001b[39;00m curr_step \u001b[38;5;241m<\u001b[39m sim_step:\n\u001b[0;32m     24\u001b[0m     normalLine\u001b[38;5;241m.\u001b[39mforward()\n\u001b[1;32m---> 25\u001b[0m     openLine\u001b[38;5;241m.\u001b[39mforward(\u001b[38;5;28mprint\u001b[39m\u001b[38;5;241m=\u001b[39m\u001b[38;5;28;01mTrue\u001b[39;00m)\n\u001b[0;32m     26\u001b[0m     curr_step \u001b[38;5;241m+\u001b[39m\u001b[38;5;241m=\u001b[39m params\u001b[38;5;241m.\u001b[39mtimestep\n\u001b[0;32m     27\u001b[0m     \u001b[38;5;28;01mif\u001b[39;00m curr_step \u001b[38;5;241m%\u001b[39m \u001b[38;5;28mint\u001b[39m(\u001b[38;5;241m4\u001b[39m\u001b[38;5;241m*\u001b[39mparams\u001b[38;5;241m.\u001b[39mtimestep) \u001b[38;5;241m==\u001b[39m \u001b[38;5;241m0\u001b[39m:\n",
      "File \u001b[1;32me:\\学习文件\\数学\\校门方案仓库\\Queueing-Theory-Application\\models\\utils\\line.py:65\u001b[0m, in \u001b[0;36mLine.forward\u001b[1;34m(self, TotalLine, print)\u001b[0m\n\u001b[0;32m     63\u001b[0m \u001b[38;5;28mself\u001b[39m\u001b[38;5;241m.\u001b[39mgenerate()\n\u001b[0;32m     64\u001b[0m \u001b[38;5;28;01mif\u001b[39;00m \u001b[38;5;28mprint\u001b[39m:\n\u001b[1;32m---> 65\u001b[0m     \u001b[38;5;28mself\u001b[39m\u001b[38;5;241m.\u001b[39mprint()\n",
      "File \u001b[1;32me:\\学习文件\\数学\\校门方案仓库\\Queueing-Theory-Application\\models\\utils\\line.py:58\u001b[0m, in \u001b[0;36mLine.print\u001b[1;34m(self)\u001b[0m\n\u001b[0;32m     56\u001b[0m     i \u001b[38;5;241m+\u001b[39m\u001b[38;5;241m=\u001b[39m \u001b[38;5;241m1\u001b[39m\n\u001b[0;32m     57\u001b[0m \u001b[38;5;28mprint\u001b[39m(\u001b[38;5;28mstr\u001b[39m,end \u001b[38;5;241m=\u001b[39m \u001b[38;5;124m\"\u001b[39m\u001b[38;5;124m \u001b[39m\u001b[38;5;124m\"\u001b[39m)\n\u001b[1;32m---> 58\u001b[0m time\u001b[38;5;241m.\u001b[39msleep(\u001b[38;5;241m0.05\u001b[39m\u001b[38;5;241m*\u001b[39m\u001b[38;5;28mself\u001b[39m\u001b[38;5;241m.\u001b[39mparams\u001b[38;5;241m.\u001b[39mtimestep)\u001b[38;5;66;03m#连续输出时每次间隔一个时间步\u001b[39;00m\n\u001b[0;32m     59\u001b[0m sys\u001b[38;5;241m.\u001b[39mstdout\u001b[38;5;241m.\u001b[39mflush()\n",
      "\u001b[1;31mKeyboardInterrupt\u001b[0m: "
     ]
    }
   ],
   "source": [
    "avg_normal, avg_open, normal_queue, open_queue = average_queue_length()\n",
    "import pandas as pd\n",
    "normal_queue = pd.Series(normal_queue)\n",
    "open_queue = pd.Series(open_queue)\n",
    "plt.plot(normal_queue.rolling(window=30).mean(), ',-', label='normal')\n",
    "plt.plot(open_queue.rolling(window=30).mean(), ',-', label='keep-open')\n",
    "plt.title('Average Queue length 30 steps moving average')\n",
    "plt.legend()"
   ]
  },
  {
   "cell_type": "code",
   "execution_count": null,
   "metadata": {},
   "outputs": [
    {
     "name": "stdout",
     "output_type": "stream",
     "text": [
      "average length for normal: 12.566, average length for open: 9.0208\n"
     ]
    }
   ],
   "source": [
    "print(f\"average length for normal: {avg_normal}, average length for open: {avg_open}\")"
   ]
  },
  {
   "cell_type": "code",
   "execution_count": null,
   "metadata": {},
   "outputs": [
    {
     "name": "stdout",
     "output_type": "stream",
     "text": [
      "Arrival times: [0.31102276 0.35451919 0.89583951 0.97175214 1.20740424 1.54922972\n",
      " 1.81934912 2.31854131 2.71796586 3.76266402 3.80299216 3.87569231\n",
      " 4.07793673 4.34207341 4.49504718 4.51040792 4.87892825 5.52712369\n",
      " 5.63113627 5.68206633 5.68596687 5.74014472 5.98088514 6.46603779\n",
      " 6.48567353 6.64682886 6.88466623 6.94936423 7.11811036 7.36933799\n",
      " 7.73302347 7.85350198 8.12905393 8.20089899 8.24881627 8.29029831\n",
      " 8.37920376 8.3865116  8.45304521 8.66428387 8.8730627  8.88834256\n",
      " 8.95611395 9.12470234 9.20140944 9.30966229 9.55918507 9.56104708\n",
      " 9.6257486  9.65646562 9.68376918]\n"
     ]
    },
    {
     "data": {
      "image/png": "[encoded data removed]",
      "text/plain": [
       "<Figure size 1000x600 with 1 Axes>"
      ]
     },
     "metadata": {},
     "output_type": "display_data"
    }
   ],
   "source": [
    "import numpy as np\n",
    "import matplotlib.pyplot as plt\n",
    "\n",
    "# Parameters\n",
    "lambda_rate = 5  # average rate (people per unit time)\n",
    "time_period = 10  # total time period for the simulation\n",
    "\n",
    "# Generate inter-arrival times\n",
    "inter_arrival_times = np.random.exponential(1/lambda_rate, int(lambda_rate * time_period * 1.5))\n",
    "\n",
    "# Generate arrival times by taking the cumulative sum of inter-arrival times\n",
    "arrival_times = np.cumsum(inter_arrival_times)\n",
    "\n",
    "# Filter arrival times to be within the time period\n",
    "arrival_times = arrival_times[arrival_times <= time_period]\n",
    "\n",
    "# Display the results\n",
    "print(\"Arrival times:\", arrival_times)\n",
    "\n",
    "# Plot the arrivals over time\n",
    "plt.figure(figsize=(10, 6))\n",
    "plt.step(arrival_times, np.arange(1, len(arrival_times) + 1), where='post')\n",
    "plt.xlabel('Time')\n",
    "plt.ylabel('Number of arrivals')\n",
    "plt.title('Poisson Process: Arrivals Over Time')\n",
    "plt.grid(True)\n",
    "plt.show()"
   ]
  },
  {
   "cell_type": "code",
   "execution_count": null,
   "metadata": {},
   "outputs": [
    {
     "data": {
      "text/plain": [
       "2"
      ]
     },
     "execution_count": 10,
     "metadata": {},
     "output_type": "execute_result"
    }
   ],
   "source": [
    "test = [None, 'something', 'something', None]\n",
    "sum(x is not None for x in test)"
   ]
  }
 ],
 "metadata": {
  "kernelspec": {
   "display_name": "base",
   "language": "python",
   "name": "python3"
  },
  "language_info": {
   "codemirror_mode": {
    "name": "ipython",
    "version": 3
   },
   "file_extension": ".py",
   "mimetype": "text/x-python",
   "name": "python",
   "nbconvert_exporter": "python",
   "pygments_lexer": "ipython3",
   "version": "3.11.7"
  }
 },
 "nbformat": 4,
 "nbformat_minor": 2
}
