{
 "cells": [
  {
   "cell_type": "code",
   "execution_count": 92,
   "metadata": {},
   "outputs": [],
   "source": [
    "import random\n",
    "import time\n",
    "from tqdm import tqdm\n",
    "class Person:\n",
    "    def __init__(self,Line):\n",
    "        self.Line= Line\n",
    "        self.idPath = 9\n",
    "        self.Line.Path[-1] = self\n",
    "        self.atdoor = 0\n",
    "        self.type = \"Person\"\n",
    "    def move(self):\n",
    "        if self.idPath>=1:\n",
    "            if self.Line.Path[self.idPath-1]==None:\n",
    "                self.Line.Path[self.idPath-1] = self\n",
    "                self.Line.Path[self.idPath] = None\n",
    "                self.idPath-=1\n",
    "                if self.idPath == 0:\n",
    "                    self.atdoor = 2\n",
    "        else:\n",
    "            self.atdoor-=1\n",
    "            if self.atdoor == 0:\n",
    "                self.Line.Path[self.idPath] = None\n",
    "                self.Line.PassingCounter+=1\n",
    "class Bicycle:\n",
    "    def __init__(self,Line):\n",
    "        self.Line= Line\n",
    "        self.headidPath = 8\n",
    "        self.tailidPath = 9\n",
    "        self.Line.Path[-2] = self\n",
    "        self.Line.Path[-1] = self\n",
    "        self.atdoor = 0\n",
    "        self.type = \"Bicycle\"\n",
    "    def move(self):\n",
    "        if self.headidPath>=1:\n",
    "            if self.Line.Path[self.headidPath-1]==None:\n",
    "                self.Line.Path[self.headidPath-1] = self\n",
    "                self.Line.Path[self.tailidPath] = None\n",
    "                self.headidPath -= 1\n",
    "                self.tailidPath -= 1\n",
    "                if self.headidPath == 0:\n",
    "                    self.atdoor = 2\n",
    "        else:\n",
    "            self.atdoor-=1\n",
    "            self.Line.Path[self.tailidPath] = None\n",
    "            if self.atdoor == 0:\n",
    "                self.Line.Path[self.headidPath] = None\n",
    "                self.Line.PassingCounter+=1\n",
    "class Line:\n",
    "    def __init__(self):\n",
    "        self.Path = [None]*10\n",
    "        self.PassingCounter = 0\n",
    "    def update(self):\n",
    "        for i in self.Path:\n",
    "            if i == None:\n",
    "                continue\n",
    "            else:\n",
    "                i.move()\n",
    "    def generate(self):\n",
    "        if self.Path[-1]==None:\n",
    "            ifgenerate = random.random()\n",
    "            if ifgenerate>=0.8:\n",
    "                if self.Path[-2]==None:\n",
    "                    ifperson = random.random()\n",
    "                    if ifperson>=0.1:\n",
    "                        Person(self)\n",
    "                    else:\n",
    "                        Bicycle(self)\n",
    "                else:\n",
    "                    Person(self)\n",
    "    def print(self):\n",
    "        str = \"\\r\"\n",
    "        for i in self.Path:\n",
    "            if i==None:\n",
    "                str = str+\"🈳\"\n",
    "            elif i.type == \"Person\":\n",
    "                str = str+\"🚶‍♂️ \"\n",
    "            elif i.type == \"Bicycle\":\n",
    "                str = str+\"🚲\"\n",
    "        print(\"\\r                                                            \",end=\" \")\n",
    "        print(str,end=\" \")\n",
    "        time.sleep(0.5)\n",
    "    def forward(self):\n",
    "        self.print()\n",
    "        self.update()\n",
    "        self.generate()"
   ]
  },
  {
   "cell_type": "code",
   "execution_count": 98,
   "metadata": {},
   "outputs": [],
   "source": [
    "line = Line()"
   ]
  },
  {
   "cell_type": "code",
   "execution_count": 101,
   "metadata": {},
   "outputs": [
    {
     "name": "stdout",
     "output_type": "stream",
     "text": [
      "🚶‍♂️ 🚶‍♂️ 🈳🚶‍♂️ 🈳🚶‍♂️ 🈳🈳🈳🈳                         "
     ]
    }
   ],
   "source": [
    "for i in range(60):\n",
    "    line.update()\n",
    "    line.generate()\n",
    "    line.print()"
   ]
  },
  {
   "cell_type": "code",
   "execution_count": 102,
   "metadata": {},
   "outputs": [
    {
     "name": "stdout",
     "output_type": "stream",
     "text": [
      "27\n"
     ]
    }
   ],
   "source": [
    "print(line.PassingCounter)"
   ]
  }
 ],
 "metadata": {
  "kernelspec": {
   "display_name": "base",
   "language": "python",
   "name": "python3"
  },
  "language_info": {
   "codemirror_mode": {
    "name": "ipython",
    "version": 3
   },
   "file_extension": ".py",
   "mimetype": "text/x-python",
   "name": "python",
   "nbconvert_exporter": "python",
   "pygments_lexer": "ipython3",
   "version": "3.11.7"
  }
 },
 "nbformat": 4,
 "nbformat_minor": 2
}
