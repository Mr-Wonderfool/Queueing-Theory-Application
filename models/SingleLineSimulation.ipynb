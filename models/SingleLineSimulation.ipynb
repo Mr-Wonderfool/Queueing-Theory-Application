{
 "cells": [
  {
   "cell_type": "code",
   "execution_count": 33,
   "metadata": {},
   "outputs": [
    {
     "name": "stdout",
     "output_type": "stream",
     "text": [
      "The autoreload extension is already loaded. To reload it, use:\n",
      "  %reload_ext autoreload\n"
     ]
    }
   ],
   "source": [
    "%load_ext autoreload\n",
    "%autoreload 2\n",
    "import numpy as np\n",
    "import time\n",
    "import sys"
   ]
  },
  {
   "cell_type": "code",
   "execution_count": 13,
   "metadata": {},
   "outputs": [],
   "source": [
    "class Person:\n",
    "    def __init__(self,Line):\n",
    "        self.Line= Line\n",
    "        self.idPath = 9\n",
    "        self.Line.Path[-1] = self\n",
    "        self.atdoor = 0\n",
    "        self.type = \"Person\"\n",
    "    def move(self):\n",
    "        if self.idPath>=1:\n",
    "            if self.Line.Path[self.idPath-1]==None:\n",
    "                self.Line.Path[self.idPath-1] = self\n",
    "                self.Line.Path[self.idPath] = None\n",
    "                self.idPath-=1\n",
    "                if self.idPath == 0:\n",
    "                    self.atdoor = 2\n",
    "        else:\n",
    "            self.atdoor-=1\n",
    "            if self.atdoor == 0:\n",
    "                self.Line.Path[self.idPath] = None\n",
    "                self.Line.PassingCounter+=1"
   ]
  },
  {
   "cell_type": "code",
   "execution_count": 14,
   "metadata": {},
   "outputs": [],
   "source": [
    "class Bicycle:\n",
    "    def __init__(self,Line):\n",
    "        self.Line= Line\n",
    "        self.headidPath = 8\n",
    "        self.tailidPath = 9\n",
    "        self.Line.Path[-2] = self\n",
    "        self.Line.Path[-1] = self\n",
    "        self.atdoor = 0\n",
    "        self.type = \"Bicycle\"\n",
    "    def move(self):\n",
    "        if self.headidPath>=1:\n",
    "            if self.Line.Path[self.headidPath-1]==None:\n",
    "                self.Line.Path[self.headidPath-1] = self\n",
    "                self.Line.Path[self.tailidPath] = None\n",
    "                self.headidPath -= 1\n",
    "                self.tailidPath -= 1\n",
    "                if self.headidPath == 0:\n",
    "                    self.atdoor = 2\n",
    "        else:\n",
    "            self.atdoor-=1\n",
    "            self.Line.Path[self.tailidPath] = None\n",
    "            if self.atdoor == 0:\n",
    "                self.Line.Path[self.headidPath] = None\n",
    "                self.Line.PassingCounter+=1"
   ]
  },
  {
   "cell_type": "code",
   "execution_count": 38,
   "metadata": {},
   "outputs": [],
   "source": [
    "class Line:\n",
    "    def __init__(self, generate_prob, bike_prob):\n",
    "        self.Path = [None]*10\n",
    "        self.PassingCounter = 0\n",
    "        self.generate_prob = generate_prob\n",
    "        self.bike_prob = bike_prob\n",
    "    def update(self):\n",
    "        for i in self.Path:\n",
    "            if i == None:\n",
    "                continue\n",
    "            else:\n",
    "                i.move()\n",
    "    def generate(self):\n",
    "        if self.Path[-1]==None:\n",
    "            ifgenerate = np.random.random()\n",
    "            if ifgenerate >= self.generate_prob: # reach the threshold of generating people\n",
    "                if self.Path[-2]==None:\n",
    "                    ifperson = np.random.random()\n",
    "                    if ifperson >= self.bike_prob:\n",
    "                        Person(self)\n",
    "                    else:\n",
    "                        Bicycle(self)\n",
    "                else:\n",
    "                    Person(self)\n",
    "    def print(self):\n",
    "        # clear the current output\n",
    "        sys.stdout.flush()\n",
    "        str = \"\\r\"\n",
    "        i = 0\n",
    "        while i < len(self.Path):\n",
    "            if None == self.Path[i]:\n",
    "                str = str+\"🈳\"\n",
    "            elif \"Person\" == self.Path[i].type:\n",
    "                str = str+\"🚶‍♂️\"\n",
    "            elif \"Bicycle\" == self.Path[i].type:\n",
    "                str = str+\"🚲\"\n",
    "                # bike take up two blocks, skip the second block\n",
    "                i += 1\n",
    "            i += 1\n",
    "        print(str,end=\" \")\n",
    "        time.sleep(1)\n",
    "    def forward(self):\n",
    "        self.print()\n",
    "        self.update()\n",
    "        self.generate()"
   ]
  },
  {
   "cell_type": "code",
   "execution_count": 39,
   "metadata": {},
   "outputs": [],
   "source": [
    "line = Line(generate_prob=.4, bike_prob=.1)"
   ]
  },
  {
   "cell_type": "code",
   "execution_count": 40,
   "metadata": {},
   "outputs": [
    {
     "name": "stdout",
     "output_type": "stream",
     "text": [
      "🚶‍♂️🚶‍♂️🚶‍♂️🈳🈳🚶‍♂️🈳🈳🚶‍♂️🚶‍♂️ "
     ]
    },
    {
     "ename": "KeyboardInterrupt",
     "evalue": "",
     "output_type": "error",
     "traceback": [
      "\u001b[1;31m---------------------------------------------------------------------------\u001b[0m",
      "\u001b[1;31mKeyboardInterrupt\u001b[0m                         Traceback (most recent call last)",
      "Cell \u001b[1;32mIn[40], line 4\u001b[0m\n\u001b[0;32m      2\u001b[0m line\u001b[38;5;241m.\u001b[39mupdate()\n\u001b[0;32m      3\u001b[0m line\u001b[38;5;241m.\u001b[39mgenerate()\n\u001b[1;32m----> 4\u001b[0m line\u001b[38;5;241m.\u001b[39mprint()\n",
      "Cell \u001b[1;32mIn[38], line 41\u001b[0m, in \u001b[0;36mLine.print\u001b[1;34m(self)\u001b[0m\n\u001b[0;32m     39\u001b[0m     i \u001b[38;5;241m+\u001b[39m\u001b[38;5;241m=\u001b[39m \u001b[38;5;241m1\u001b[39m\n\u001b[0;32m     40\u001b[0m \u001b[38;5;28mprint\u001b[39m(\u001b[38;5;28mstr\u001b[39m,end\u001b[38;5;241m=\u001b[39m\u001b[38;5;124m\"\u001b[39m\u001b[38;5;124m \u001b[39m\u001b[38;5;124m\"\u001b[39m)\n\u001b[1;32m---> 41\u001b[0m time\u001b[38;5;241m.\u001b[39msleep(\u001b[38;5;241m1\u001b[39m)\n",
      "\u001b[1;31mKeyboardInterrupt\u001b[0m: "
     ]
    }
   ],
   "source": [
    "for i in range(60):\n",
    "    line.update()\n",
    "    line.generate()\n",
    "    line.print()"
   ]
  }
 ],
 "metadata": {
  "kernelspec": {
   "display_name": "base",
   "language": "python",
   "name": "python3"
  },
  "language_info": {
   "codemirror_mode": {
    "name": "ipython",
    "version": 3
   },
   "file_extension": ".py",
   "mimetype": "text/x-python",
   "name": "python",
   "nbconvert_exporter": "python",
   "pygments_lexer": "ipython3",
   "version": "3.11.5"
  }
 },
 "nbformat": 4,
 "nbformat_minor": 2
}
